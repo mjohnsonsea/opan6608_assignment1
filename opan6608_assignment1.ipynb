{
 "cells": [
  {
   "cell_type": "markdown",
   "id": "187019e0-b4c4-4eca-9abc-38ccd7948091",
   "metadata": {},
   "source": [
    "# Assignment 1\n",
    "## Mike Johnson\n",
    "### January 20, 2025"
   ]
  },
  {
   "cell_type": "markdown",
   "id": "88145680-b6b6-4f6b-ae63-4bb621e177f9",
   "metadata": {},
   "source": [
    "****"
   ]
  },
  {
   "cell_type": "code",
   "execution_count": 1,
   "id": "c3901f9f-1d23-44be-affa-5910bad74941",
   "metadata": {},
   "outputs": [],
   "source": [
    "# Load sql extension\n",
    "%load_ext sql"
   ]
  },
  {
   "cell_type": "code",
   "execution_count": 2,
   "id": "7489e926-7262-441e-be97-73b39c404a08",
   "metadata": {},
   "outputs": [
    {
     "data": {
      "text/html": [
       "<span style=\"None\">Connecting to &#x27;sqlite:///housing.db&#x27;</span>"
      ],
      "text/plain": [
       "Connecting to 'sqlite:///housing.db'"
      ]
     },
     "metadata": {},
     "output_type": "display_data"
    }
   ],
   "source": [
    "# Connect to housing.db\n",
    "%sql sqlite:///housing.db"
   ]
  },
  {
   "cell_type": "markdown",
   "id": "db16dbd8-3b2e-4d29-aa50-00b325d54f0e",
   "metadata": {},
   "source": [
    "#### 1. Return the first 7 records from the housing table"
   ]
  },
  {
   "cell_type": "code",
   "execution_count": 3,
   "id": "9c3e70c6-6261-4889-95e1-5e1c699b71a6",
   "metadata": {},
   "outputs": [
    {
     "data": {
      "text/html": [
       "<span style=\"None\">Running query in &#x27;sqlite:///housing.db&#x27;</span>"
      ],
      "text/plain": [
       "Running query in 'sqlite:///housing.db'"
      ]
     },
     "metadata": {},
     "output_type": "display_data"
    },
    {
     "data": {
      "text/html": [
       "<table>\n",
       "    <thead>\n",
       "        <tr>\n",
       "            <th>entry</th>\n",
       "            <th>city</th>\n",
       "            <th>year</th>\n",
       "            <th>month</th>\n",
       "            <th>sales</th>\n",
       "            <th>volume</th>\n",
       "            <th>median</th>\n",
       "            <th>listings</th>\n",
       "            <th>inventory</th>\n",
       "        </tr>\n",
       "    </thead>\n",
       "    <tbody>\n",
       "        <tr>\n",
       "            <td>1</td>\n",
       "            <td>Abilene</td>\n",
       "            <td>2000</td>\n",
       "            <td>1</td>\n",
       "            <td>72</td>\n",
       "            <td>5380000</td>\n",
       "            <td>71400</td>\n",
       "            <td>701</td>\n",
       "            <td>6.3</td>\n",
       "        </tr>\n",
       "        <tr>\n",
       "            <td>2</td>\n",
       "            <td>Abilene</td>\n",
       "            <td>2000</td>\n",
       "            <td>2</td>\n",
       "            <td>98</td>\n",
       "            <td>6505000</td>\n",
       "            <td>58700</td>\n",
       "            <td>746</td>\n",
       "            <td>6.6</td>\n",
       "        </tr>\n",
       "        <tr>\n",
       "            <td>3</td>\n",
       "            <td>Abilene</td>\n",
       "            <td>2000</td>\n",
       "            <td>3</td>\n",
       "            <td>130</td>\n",
       "            <td>9285000</td>\n",
       "            <td>58100</td>\n",
       "            <td>784</td>\n",
       "            <td>6.8</td>\n",
       "        </tr>\n",
       "        <tr>\n",
       "            <td>4</td>\n",
       "            <td>Abilene</td>\n",
       "            <td>2000</td>\n",
       "            <td>4</td>\n",
       "            <td>98</td>\n",
       "            <td>9730000</td>\n",
       "            <td>68600</td>\n",
       "            <td>785</td>\n",
       "            <td>6.9</td>\n",
       "        </tr>\n",
       "        <tr>\n",
       "            <td>5</td>\n",
       "            <td>Abilene</td>\n",
       "            <td>2000</td>\n",
       "            <td>5</td>\n",
       "            <td>141</td>\n",
       "            <td>10590000</td>\n",
       "            <td>67300</td>\n",
       "            <td>794</td>\n",
       "            <td>6.8</td>\n",
       "        </tr>\n",
       "        <tr>\n",
       "            <td>6</td>\n",
       "            <td>Abilene</td>\n",
       "            <td>2000</td>\n",
       "            <td>6</td>\n",
       "            <td>156</td>\n",
       "            <td>13910000</td>\n",
       "            <td>66900</td>\n",
       "            <td>780</td>\n",
       "            <td>6.6</td>\n",
       "        </tr>\n",
       "        <tr>\n",
       "            <td>7</td>\n",
       "            <td>Abilene</td>\n",
       "            <td>2000</td>\n",
       "            <td>7</td>\n",
       "            <td>152</td>\n",
       "            <td>12635000</td>\n",
       "            <td>73500</td>\n",
       "            <td>742</td>\n",
       "            <td>6.2</td>\n",
       "        </tr>\n",
       "    </tbody>\n",
       "</table>"
      ],
      "text/plain": [
       "+-------+---------+------+-------+-------+----------+--------+----------+-----------+\n",
       "| entry |   city  | year | month | sales |  volume  | median | listings | inventory |\n",
       "+-------+---------+------+-------+-------+----------+--------+----------+-----------+\n",
       "|   1   | Abilene | 2000 |   1   |   72  | 5380000  | 71400  |   701    |    6.3    |\n",
       "|   2   | Abilene | 2000 |   2   |   98  | 6505000  | 58700  |   746    |    6.6    |\n",
       "|   3   | Abilene | 2000 |   3   |  130  | 9285000  | 58100  |   784    |    6.8    |\n",
       "|   4   | Abilene | 2000 |   4   |   98  | 9730000  | 68600  |   785    |    6.9    |\n",
       "|   5   | Abilene | 2000 |   5   |  141  | 10590000 | 67300  |   794    |    6.8    |\n",
       "|   6   | Abilene | 2000 |   6   |  156  | 13910000 | 66900  |   780    |    6.6    |\n",
       "|   7   | Abilene | 2000 |   7   |  152  | 12635000 | 73500  |   742    |    6.2    |\n",
       "+-------+---------+------+-------+-------+----------+--------+----------+-----------+"
      ]
     },
     "execution_count": 3,
     "metadata": {},
     "output_type": "execute_result"
    }
   ],
   "source": [
    "%%sql\n",
    "\n",
    "SELECT *\n",
    "FROM housing\n",
    "LIMIT 7;"
   ]
  },
  {
   "cell_type": "markdown",
   "id": "a10ad197-e6d8-4c7b-9465-a5a8a42a9e45",
   "metadata": {},
   "source": [
    "****"
   ]
  },
  {
   "cell_type": "markdown",
   "id": "75bb5b14-5c33-4e6b-8bed-b9c9558188b7",
   "metadata": {},
   "source": [
    "#### 2. How many records in the data had sales greater than 100 and a median sales price greater than 100000? Write a query to return the result."
   ]
  },
  {
   "cell_type": "code",
   "execution_count": 4,
   "id": "afcea9bd-ce9e-48cc-866f-25d5331b2ffb",
   "metadata": {},
   "outputs": [
    {
     "data": {
      "text/html": [
       "<span style=\"None\">Running query in &#x27;sqlite:///housing.db&#x27;</span>"
      ],
      "text/plain": [
       "Running query in 'sqlite:///housing.db'"
      ]
     },
     "metadata": {},
     "output_type": "display_data"
    },
    {
     "data": {
      "text/html": [
       "<table>\n",
       "    <thead>\n",
       "        <tr>\n",
       "            <th>Count</th>\n",
       "        </tr>\n",
       "    </thead>\n",
       "    <tbody>\n",
       "        <tr>\n",
       "            <td>5106</td>\n",
       "        </tr>\n",
       "    </tbody>\n",
       "</table>"
      ],
      "text/plain": [
       "+-------+\n",
       "| Count |\n",
       "+-------+\n",
       "|  5106 |\n",
       "+-------+"
      ]
     },
     "execution_count": 4,
     "metadata": {},
     "output_type": "execute_result"
    }
   ],
   "source": [
    "%%sql\n",
    "\n",
    "SELECT COUNT(*) AS 'Count'\n",
    "FROM housing\n",
    "WHERE\n",
    "    sales > 100\n",
    "    AND median > 100000;"
   ]
  },
  {
   "cell_type": "markdown",
   "id": "fe91a621-bb9f-4bb9-ab05-b222225f67a1",
   "metadata": {},
   "source": [
    "****"
   ]
  },
  {
   "cell_type": "markdown",
   "id": "4376f2d3-83bb-4592-b76d-1f378bdc0e1e",
   "metadata": {},
   "source": [
    "#### 3. Show the number of records in the data that had sales greater than 100 or a median sales price less than 100000 by month. The result should contain two columns: month and num_records."
   ]
  },
  {
   "cell_type": "code",
   "execution_count": 5,
   "id": "676e7886-fe79-4b7a-bf9a-e04e93f7b865",
   "metadata": {},
   "outputs": [
    {
     "data": {
      "text/html": [
       "<span style=\"None\">displaylimit: Value None will be treated as 0 (no limit)</span>"
      ],
      "text/plain": [
       "displaylimit: Value None will be treated as 0 (no limit)"
      ]
     },
     "metadata": {},
     "output_type": "display_data"
    }
   ],
   "source": [
    "# Adjust display limit\n",
    "%config SqlMagic.displaylimit = None"
   ]
  },
  {
   "cell_type": "code",
   "execution_count": 6,
   "id": "c90d3af5-560d-4f80-945a-f2ea3585ea73",
   "metadata": {},
   "outputs": [
    {
     "data": {
      "text/html": [
       "<span style=\"None\">Running query in &#x27;sqlite:///housing.db&#x27;</span>"
      ],
      "text/plain": [
       "Running query in 'sqlite:///housing.db'"
      ]
     },
     "metadata": {},
     "output_type": "display_data"
    },
    {
     "data": {
      "text/html": [
       "<table>\n",
       "    <thead>\n",
       "        <tr>\n",
       "            <th>month</th>\n",
       "            <th>num_records</th>\n",
       "        </tr>\n",
       "    </thead>\n",
       "    <tbody>\n",
       "        <tr>\n",
       "            <td>1</td>\n",
       "            <td>576</td>\n",
       "        </tr>\n",
       "        <tr>\n",
       "            <td>2</td>\n",
       "            <td>582</td>\n",
       "        </tr>\n",
       "        <tr>\n",
       "            <td>3</td>\n",
       "            <td>625</td>\n",
       "        </tr>\n",
       "        <tr>\n",
       "            <td>4</td>\n",
       "            <td>620</td>\n",
       "        </tr>\n",
       "        <tr>\n",
       "            <td>5</td>\n",
       "            <td>639</td>\n",
       "        </tr>\n",
       "        <tr>\n",
       "            <td>6</td>\n",
       "            <td>625</td>\n",
       "        </tr>\n",
       "        <tr>\n",
       "            <td>7</td>\n",
       "            <td>626</td>\n",
       "        </tr>\n",
       "        <tr>\n",
       "            <td>8</td>\n",
       "            <td>586</td>\n",
       "        </tr>\n",
       "        <tr>\n",
       "            <td>9</td>\n",
       "            <td>563</td>\n",
       "        </tr>\n",
       "        <tr>\n",
       "            <td>10</td>\n",
       "            <td>575</td>\n",
       "        </tr>\n",
       "        <tr>\n",
       "            <td>11</td>\n",
       "            <td>546</td>\n",
       "        </tr>\n",
       "        <tr>\n",
       "            <td>12</td>\n",
       "            <td>559</td>\n",
       "        </tr>\n",
       "    </tbody>\n",
       "</table>"
      ],
      "text/plain": [
       "+-------+-------------+\n",
       "| month | num_records |\n",
       "+-------+-------------+\n",
       "|   1   |     576     |\n",
       "|   2   |     582     |\n",
       "|   3   |     625     |\n",
       "|   4   |     620     |\n",
       "|   5   |     639     |\n",
       "|   6   |     625     |\n",
       "|   7   |     626     |\n",
       "|   8   |     586     |\n",
       "|   9   |     563     |\n",
       "|   10  |     575     |\n",
       "|   11  |     546     |\n",
       "|   12  |     559     |\n",
       "+-------+-------------+"
      ]
     },
     "execution_count": 6,
     "metadata": {},
     "output_type": "execute_result"
    }
   ],
   "source": [
    "%%sql\n",
    "\n",
    "SELECT\n",
    "    month,\n",
    "    COUNT(*) as num_records\n",
    "FROM housing\n",
    "WHERE\n",
    "    sales > 100\n",
    "    OR median < 100000\n",
    "GROUP BY month"
   ]
  },
  {
   "cell_type": "markdown",
   "id": "9ef984e7-fdb0-4af4-9793-11da067d1389",
   "metadata": {},
   "source": [
    "****"
   ]
  },
  {
   "cell_type": "markdown",
   "id": "9c69be9a-cb8e-4553-a0d9-d04f33e6085d",
   "metadata": {},
   "source": [
    "#### 4. Return a result that shows the mean annual sales by city and year, excluding cities that begin with the letter H. The result should be in descending order by mean sales, limited to 20 records, and should contain three columns: city, year, and mean_annual_sales"
   ]
  },
  {
   "cell_type": "code",
   "execution_count": 7,
   "id": "09faad0f-3b4d-4662-a84e-b314ab096448",
   "metadata": {},
   "outputs": [
    {
     "data": {
      "text/html": [
       "<span style=\"None\">Running query in &#x27;sqlite:///housing.db&#x27;</span>"
      ],
      "text/plain": [
       "Running query in 'sqlite:///housing.db'"
      ]
     },
     "metadata": {},
     "output_type": "display_data"
    },
    {
     "data": {
      "text/html": [
       "<table>\n",
       "    <thead>\n",
       "        <tr>\n",
       "            <th>city</th>\n",
       "            <th>year</th>\n",
       "            <th>mean_annual_sales</th>\n",
       "        </tr>\n",
       "    </thead>\n",
       "    <tbody>\n",
       "        <tr>\n",
       "            <td>Dallas</td>\n",
       "            <td>2006</td>\n",
       "            <td>5352.166666666667</td>\n",
       "        </tr>\n",
       "        <tr>\n",
       "            <td>Dallas</td>\n",
       "            <td>2015</td>\n",
       "            <td>5247.857142857143</td>\n",
       "        </tr>\n",
       "        <tr>\n",
       "            <td>Dallas</td>\n",
       "            <td>2014</td>\n",
       "            <td>5012.833333333333</td>\n",
       "        </tr>\n",
       "        <tr>\n",
       "            <td>Dallas</td>\n",
       "            <td>2005</td>\n",
       "            <td>4998.333333333333</td>\n",
       "        </tr>\n",
       "        <tr>\n",
       "            <td>Dallas</td>\n",
       "            <td>2013</td>\n",
       "            <td>4976.166666666667</td>\n",
       "        </tr>\n",
       "        <tr>\n",
       "            <td>Dallas</td>\n",
       "            <td>2007</td>\n",
       "            <td>4974.583333333333</td>\n",
       "        </tr>\n",
       "        <tr>\n",
       "            <td>Dallas</td>\n",
       "            <td>2004</td>\n",
       "            <td>4542.833333333333</td>\n",
       "        </tr>\n",
       "        <tr>\n",
       "            <td>Dallas</td>\n",
       "            <td>2008</td>\n",
       "            <td>4237.333333333333</td>\n",
       "        </tr>\n",
       "        <tr>\n",
       "            <td>Dallas</td>\n",
       "            <td>2012</td>\n",
       "            <td>4200.916666666667</td>\n",
       "        </tr>\n",
       "        <tr>\n",
       "            <td>Dallas</td>\n",
       "            <td>2003</td>\n",
       "            <td>4106.5</td>\n",
       "        </tr>\n",
       "        <tr>\n",
       "            <td>Dallas</td>\n",
       "            <td>2002</td>\n",
       "            <td>3933.25</td>\n",
       "        </tr>\n",
       "        <tr>\n",
       "            <td>Dallas</td>\n",
       "            <td>2001</td>\n",
       "            <td>3916.0</td>\n",
       "        </tr>\n",
       "        <tr>\n",
       "            <td>Dallas</td>\n",
       "            <td>2009</td>\n",
       "            <td>3824.25</td>\n",
       "        </tr>\n",
       "        <tr>\n",
       "            <td>Dallas</td>\n",
       "            <td>2000</td>\n",
       "            <td>3787.1666666666665</td>\n",
       "        </tr>\n",
       "        <tr>\n",
       "            <td>Dallas</td>\n",
       "            <td>2011</td>\n",
       "            <td>3554.6666666666665</td>\n",
       "        </tr>\n",
       "        <tr>\n",
       "            <td>Dallas</td>\n",
       "            <td>2010</td>\n",
       "            <td>3531.9166666666665</td>\n",
       "        </tr>\n",
       "        <tr>\n",
       "            <td>Austin</td>\n",
       "            <td>2015</td>\n",
       "            <td>2696.8571428571427</td>\n",
       "        </tr>\n",
       "        <tr>\n",
       "            <td>Austin</td>\n",
       "            <td>2014</td>\n",
       "            <td>2579.4166666666665</td>\n",
       "        </tr>\n",
       "        <tr>\n",
       "            <td>Austin</td>\n",
       "            <td>2013</td>\n",
       "            <td>2536.3333333333335</td>\n",
       "        </tr>\n",
       "        <tr>\n",
       "            <td>Austin</td>\n",
       "            <td>2006</td>\n",
       "            <td>2523.6666666666665</td>\n",
       "        </tr>\n",
       "    </tbody>\n",
       "</table>"
      ],
      "text/plain": [
       "+--------+------+--------------------+\n",
       "|  city  | year | mean_annual_sales  |\n",
       "+--------+------+--------------------+\n",
       "| Dallas | 2006 | 5352.166666666667  |\n",
       "| Dallas | 2015 | 5247.857142857143  |\n",
       "| Dallas | 2014 | 5012.833333333333  |\n",
       "| Dallas | 2005 | 4998.333333333333  |\n",
       "| Dallas | 2013 | 4976.166666666667  |\n",
       "| Dallas | 2007 | 4974.583333333333  |\n",
       "| Dallas | 2004 | 4542.833333333333  |\n",
       "| Dallas | 2008 | 4237.333333333333  |\n",
       "| Dallas | 2012 | 4200.916666666667  |\n",
       "| Dallas | 2003 |       4106.5       |\n",
       "| Dallas | 2002 |      3933.25       |\n",
       "| Dallas | 2001 |       3916.0       |\n",
       "| Dallas | 2009 |      3824.25       |\n",
       "| Dallas | 2000 | 3787.1666666666665 |\n",
       "| Dallas | 2011 | 3554.6666666666665 |\n",
       "| Dallas | 2010 | 3531.9166666666665 |\n",
       "| Austin | 2015 | 2696.8571428571427 |\n",
       "| Austin | 2014 | 2579.4166666666665 |\n",
       "| Austin | 2013 | 2536.3333333333335 |\n",
       "| Austin | 2006 | 2523.6666666666665 |\n",
       "+--------+------+--------------------+"
      ]
     },
     "execution_count": 7,
     "metadata": {},
     "output_type": "execute_result"
    }
   ],
   "source": [
    "%%sql\n",
    "\n",
    "SELECT\n",
    "    city,\n",
    "    year,\n",
    "    avg(sales) AS mean_annual_sales\n",
    "FROM housing\n",
    "WHERE city NOT LIKE \"H%\"\n",
    "GROUP BY\n",
    "    city,\n",
    "    year\n",
    "ORDER BY mean_annual_sales DESC\n",
    "LIMIT 20;"
   ]
  },
  {
   "cell_type": "markdown",
   "id": "e0130a16-c8cf-44f2-967b-4aaba9c5736d",
   "metadata": {},
   "source": [
    "****"
   ]
  },
  {
   "cell_type": "markdown",
   "id": "faaf603f-b239-4705-9736-c4b8ab6d9047",
   "metadata": {},
   "source": [
    "#### 5. How many sales were there in Austin in December 2010? Return the city, year, and sales in the result."
   ]
  },
  {
   "cell_type": "code",
   "execution_count": 8,
   "id": "c84c14fa-a6fb-40f3-b00c-81b1625c1562",
   "metadata": {},
   "outputs": [
    {
     "data": {
      "text/html": [
       "<span style=\"None\">Running query in &#x27;sqlite:///housing.db&#x27;</span>"
      ],
      "text/plain": [
       "Running query in 'sqlite:///housing.db'"
      ]
     },
     "metadata": {},
     "output_type": "display_data"
    },
    {
     "data": {
      "text/html": [
       "<table>\n",
       "    <thead>\n",
       "        <tr>\n",
       "            <th>city</th>\n",
       "            <th>year</th>\n",
       "            <th>sales</th>\n",
       "        </tr>\n",
       "    </thead>\n",
       "    <tbody>\n",
       "        <tr>\n",
       "            <td>Austin</td>\n",
       "            <td>2010</td>\n",
       "            <td>1561</td>\n",
       "        </tr>\n",
       "    </tbody>\n",
       "</table>"
      ],
      "text/plain": [
       "+--------+------+-------+\n",
       "|  city  | year | sales |\n",
       "+--------+------+-------+\n",
       "| Austin | 2010 |  1561 |\n",
       "+--------+------+-------+"
      ]
     },
     "execution_count": 8,
     "metadata": {},
     "output_type": "execute_result"
    }
   ],
   "source": [
    "%%sql\n",
    "\n",
    "SELECT\n",
    "    city,\n",
    "    year,\n",
    "    sales\n",
    "FROM housing\n",
    "WHERE\n",
    "    city = 'Austin'\n",
    "    AND year = 2010\n",
    "    AND month = 12;"
   ]
  },
  {
   "cell_type": "markdown",
   "id": "ac3fc53e-0465-476a-86e2-0f8e6fdbf483",
   "metadata": {},
   "source": [
    "****"
   ]
  },
  {
   "cell_type": "markdown",
   "id": "196f5a22-70ea-4519-ad45-3be87f98920d",
   "metadata": {},
   "source": [
    "#### 6. In 2010 in Austin, which month had the most sales? Return a result that shows the number of sales in Austin in 2010 by month."
   ]
  },
  {
   "cell_type": "markdown",
   "id": "387ea9a0-ccef-479f-875b-a4fb25bc6941",
   "metadata": {},
   "source": [
    "Return the month in 2010 that had the most sales in Austin."
   ]
  },
  {
   "cell_type": "code",
   "execution_count": 9,
   "id": "5b7c86e3-810d-4cc4-a8e0-79edd82d27c7",
   "metadata": {},
   "outputs": [
    {
     "data": {
      "text/html": [
       "<span style=\"None\">Running query in &#x27;sqlite:///housing.db&#x27;</span>"
      ],
      "text/plain": [
       "Running query in 'sqlite:///housing.db'"
      ]
     },
     "metadata": {},
     "output_type": "display_data"
    },
    {
     "data": {
      "text/html": [
       "<table>\n",
       "    <thead>\n",
       "        <tr>\n",
       "            <th>city</th>\n",
       "            <th>month</th>\n",
       "            <th>max_sales</th>\n",
       "        </tr>\n",
       "    </thead>\n",
       "    <tbody>\n",
       "        <tr>\n",
       "            <td>Austin</td>\n",
       "            <td>5</td>\n",
       "            <td>2286</td>\n",
       "        </tr>\n",
       "    </tbody>\n",
       "</table>"
      ],
      "text/plain": [
       "+--------+-------+-----------+\n",
       "|  city  | month | max_sales |\n",
       "+--------+-------+-----------+\n",
       "| Austin |   5   |    2286   |\n",
       "+--------+-------+-----------+"
      ]
     },
     "execution_count": 9,
     "metadata": {},
     "output_type": "execute_result"
    }
   ],
   "source": [
    "%%sql\n",
    "\n",
    "SELECT\n",
    "    city,\n",
    "    month,\n",
    "    max(sales) AS max_sales\n",
    "FROM housing\n",
    "WHERE \n",
    "    city = 'Austin'\n",
    "    AND year = 2010;"
   ]
  },
  {
   "cell_type": "markdown",
   "id": "3feedbe2-d4bd-49e8-8c38-a12e0fc6e334",
   "metadata": {},
   "source": [
    "Return a result that shows the number of sales in Austin in 2010 by month."
   ]
  },
  {
   "cell_type": "code",
   "execution_count": 10,
   "id": "71d9c995-d60d-4a30-92f0-338e47835eba",
   "metadata": {},
   "outputs": [
    {
     "data": {
      "text/html": [
       "<span style=\"None\">Running query in &#x27;sqlite:///housing.db&#x27;</span>"
      ],
      "text/plain": [
       "Running query in 'sqlite:///housing.db'"
      ]
     },
     "metadata": {},
     "output_type": "display_data"
    },
    {
     "data": {
      "text/html": [
       "<table>\n",
       "    <thead>\n",
       "        <tr>\n",
       "            <th>city</th>\n",
       "            <th>month</th>\n",
       "            <th>sales</th>\n",
       "        </tr>\n",
       "    </thead>\n",
       "    <tbody>\n",
       "        <tr>\n",
       "            <td>Austin</td>\n",
       "            <td>5</td>\n",
       "            <td>2286</td>\n",
       "        </tr>\n",
       "        <tr>\n",
       "            <td>Austin</td>\n",
       "            <td>4</td>\n",
       "            <td>2230</td>\n",
       "        </tr>\n",
       "        <tr>\n",
       "            <td>Austin</td>\n",
       "            <td>6</td>\n",
       "            <td>2190</td>\n",
       "        </tr>\n",
       "        <tr>\n",
       "            <td>Austin</td>\n",
       "            <td>3</td>\n",
       "            <td>1987</td>\n",
       "        </tr>\n",
       "        <tr>\n",
       "            <td>Austin</td>\n",
       "            <td>8</td>\n",
       "            <td>1675</td>\n",
       "        </tr>\n",
       "        <tr>\n",
       "            <td>Austin</td>\n",
       "            <td>7</td>\n",
       "            <td>1640</td>\n",
       "        </tr>\n",
       "        <tr>\n",
       "            <td>Austin</td>\n",
       "            <td>12</td>\n",
       "            <td>1561</td>\n",
       "        </tr>\n",
       "        <tr>\n",
       "            <td>Austin</td>\n",
       "            <td>9</td>\n",
       "            <td>1406</td>\n",
       "        </tr>\n",
       "        <tr>\n",
       "            <td>Austin</td>\n",
       "            <td>10</td>\n",
       "            <td>1336</td>\n",
       "        </tr>\n",
       "        <tr>\n",
       "            <td>Austin</td>\n",
       "            <td>11</td>\n",
       "            <td>1327</td>\n",
       "        </tr>\n",
       "        <tr>\n",
       "            <td>Austin</td>\n",
       "            <td>2</td>\n",
       "            <td>1249</td>\n",
       "        </tr>\n",
       "        <tr>\n",
       "            <td>Austin</td>\n",
       "            <td>1</td>\n",
       "            <td>985</td>\n",
       "        </tr>\n",
       "    </tbody>\n",
       "</table>"
      ],
      "text/plain": [
       "+--------+-------+-------+\n",
       "|  city  | month | sales |\n",
       "+--------+-------+-------+\n",
       "| Austin |   5   |  2286 |\n",
       "| Austin |   4   |  2230 |\n",
       "| Austin |   6   |  2190 |\n",
       "| Austin |   3   |  1987 |\n",
       "| Austin |   8   |  1675 |\n",
       "| Austin |   7   |  1640 |\n",
       "| Austin |   12  |  1561 |\n",
       "| Austin |   9   |  1406 |\n",
       "| Austin |   10  |  1336 |\n",
       "| Austin |   11  |  1327 |\n",
       "| Austin |   2   |  1249 |\n",
       "| Austin |   1   |  985  |\n",
       "+--------+-------+-------+"
      ]
     },
     "execution_count": 10,
     "metadata": {},
     "output_type": "execute_result"
    }
   ],
   "source": [
    "%%sql\n",
    "\n",
    "SELECT\n",
    "    city,\n",
    "    month,\n",
    "    sales\n",
    "FROM housing\n",
    "WHERE \n",
    "    city = 'Austin'\n",
    "    AND year = 2010\n",
    "ORDER BY sales DESC;"
   ]
  },
  {
   "cell_type": "markdown",
   "id": "5fb000fe-9317-41a2-88b6-0b5a71336dfd",
   "metadata": {},
   "source": [
    "****"
   ]
  },
  {
   "cell_type": "markdown",
   "id": "f4de724f-4f29-4479-8741-cc2734464c1a",
   "metadata": {},
   "source": [
    "#### 7. In which city-month combinations did the greatest numbers of sales, outside of Austin? Return a result that contains the top five cities’ sales and the month it took place in 2010, excluding Austin."
   ]
  },
  {
   "cell_type": "code",
   "execution_count": 11,
   "id": "bb2e5bd1-2551-4581-ab59-58a7724759ec",
   "metadata": {},
   "outputs": [
    {
     "data": {
      "text/html": [
       "<span style=\"None\">Running query in &#x27;sqlite:///housing.db&#x27;</span>"
      ],
      "text/plain": [
       "Running query in 'sqlite:///housing.db'"
      ]
     },
     "metadata": {},
     "output_type": "display_data"
    },
    {
     "data": {
      "text/html": [
       "<table>\n",
       "    <thead>\n",
       "        <tr>\n",
       "            <th>city</th>\n",
       "            <th>month</th>\n",
       "            <th>sales</th>\n",
       "        </tr>\n",
       "    </thead>\n",
       "    <tbody>\n",
       "        <tr>\n",
       "            <td>Houston</td>\n",
       "            <td>5</td>\n",
       "            <td>6335</td>\n",
       "        </tr>\n",
       "        <tr>\n",
       "            <td>Houston</td>\n",
       "            <td>6</td>\n",
       "            <td>6117</td>\n",
       "        </tr>\n",
       "        <tr>\n",
       "            <td>Houston</td>\n",
       "            <td>4</td>\n",
       "            <td>5932</td>\n",
       "        </tr>\n",
       "        <tr>\n",
       "            <td>Houston</td>\n",
       "            <td>3</td>\n",
       "            <td>5389</td>\n",
       "        </tr>\n",
       "        <tr>\n",
       "            <td>Dallas</td>\n",
       "            <td>5</td>\n",
       "            <td>4891</td>\n",
       "        </tr>\n",
       "    </tbody>\n",
       "</table>"
      ],
      "text/plain": [
       "+---------+-------+-------+\n",
       "|   city  | month | sales |\n",
       "+---------+-------+-------+\n",
       "| Houston |   5   |  6335 |\n",
       "| Houston |   6   |  6117 |\n",
       "| Houston |   4   |  5932 |\n",
       "| Houston |   3   |  5389 |\n",
       "|  Dallas |   5   |  4891 |\n",
       "+---------+-------+-------+"
      ]
     },
     "execution_count": 11,
     "metadata": {},
     "output_type": "execute_result"
    }
   ],
   "source": [
    "%%sql\n",
    "\n",
    "SELECT\n",
    "    city,\n",
    "    month,\n",
    "    sales\n",
    "FROM housing\n",
    "WHERE\n",
    "    city != 'Austin'\n",
    "    AND year = 2010\n",
    "ORDER BY sales DESC\n",
    "LIMIT 5;"
   ]
  },
  {
   "cell_type": "markdown",
   "id": "55a94117-4678-47b1-9550-76e0c6d32e4b",
   "metadata": {},
   "source": [
    "****"
   ]
  },
  {
   "cell_type": "markdown",
   "id": "7755d0b1-b907-4beb-a885-ca2bc08f9d74",
   "metadata": {},
   "source": [
    "#### 8. In which city, year, and month did the fewest sales take place? The result should return four columns: fewest_sales, city, year, and month"
   ]
  },
  {
   "cell_type": "code",
   "execution_count": 12,
   "id": "708bc6ef-c128-40c2-8245-2f15139b7fd5",
   "metadata": {},
   "outputs": [
    {
     "data": {
      "text/html": [
       "<span style=\"None\">Running query in &#x27;sqlite:///housing.db&#x27;</span>"
      ],
      "text/plain": [
       "Running query in 'sqlite:///housing.db'"
      ]
     },
     "metadata": {},
     "output_type": "display_data"
    },
    {
     "data": {
      "text/html": [
       "<table>\n",
       "    <thead>\n",
       "        <tr>\n",
       "            <th>fewest_sales</th>\n",
       "            <th>city</th>\n",
       "            <th>year</th>\n",
       "            <th>month</th>\n",
       "        </tr>\n",
       "    </thead>\n",
       "    <tbody>\n",
       "        <tr>\n",
       "            <td>6</td>\n",
       "            <td>San Marcos</td>\n",
       "            <td>2011</td>\n",
       "            <td>10</td>\n",
       "        </tr>\n",
       "    </tbody>\n",
       "</table>"
      ],
      "text/plain": [
       "+--------------+------------+------+-------+\n",
       "| fewest_sales |    city    | year | month |\n",
       "+--------------+------------+------+-------+\n",
       "|      6       | San Marcos | 2011 |   10  |\n",
       "+--------------+------------+------+-------+"
      ]
     },
     "execution_count": 12,
     "metadata": {},
     "output_type": "execute_result"
    }
   ],
   "source": [
    "%%sql\n",
    "\n",
    "SELECT\n",
    "    min(sales) AS fewest_sales,\n",
    "    city,\n",
    "    year,\n",
    "    month\n",
    "FROM housing;"
   ]
  },
  {
   "cell_type": "markdown",
   "id": "499a6221-4200-4d90-9a14-848c7c5a2d85",
   "metadata": {},
   "source": [
    "****"
   ]
  },
  {
   "cell_type": "markdown",
   "id": "1625ed5c-8d11-4af4-8984-18993db51ec7",
   "metadata": {},
   "source": [
    "#### 9. For the entire dataset, what were the mean sales in each year?"
   ]
  },
  {
   "cell_type": "code",
   "execution_count": 13,
   "id": "4b90d2c5-447a-4542-84a3-7dda3f7a0dad",
   "metadata": {},
   "outputs": [
    {
     "data": {
      "text/html": [
       "<span style=\"None\">Running query in &#x27;sqlite:///housing.db&#x27;</span>"
      ],
      "text/plain": [
       "Running query in 'sqlite:///housing.db'"
      ]
     },
     "metadata": {},
     "output_type": "display_data"
    },
    {
     "data": {
      "text/html": [
       "<table>\n",
       "    <thead>\n",
       "        <tr>\n",
       "            <th>year</th>\n",
       "            <th>mean_sales</th>\n",
       "        </tr>\n",
       "    </thead>\n",
       "    <tbody>\n",
       "        <tr>\n",
       "            <td>2000</td>\n",
       "            <td>403.04891304347825</td>\n",
       "        </tr>\n",
       "        <tr>\n",
       "            <td>2001</td>\n",
       "            <td>419.29891304347825</td>\n",
       "        </tr>\n",
       "        <tr>\n",
       "            <td>2002</td>\n",
       "            <td>425.0</td>\n",
       "        </tr>\n",
       "        <tr>\n",
       "            <td>2003</td>\n",
       "            <td>459.9800724637681</td>\n",
       "        </tr>\n",
       "        <tr>\n",
       "            <td>2004</td>\n",
       "            <td>514.4909420289855</td>\n",
       "        </tr>\n",
       "        <tr>\n",
       "            <td>2005</td>\n",
       "            <td>572.5471014492754</td>\n",
       "        </tr>\n",
       "        <tr>\n",
       "            <td>2006</td>\n",
       "            <td>629.9510869565217</td>\n",
       "        </tr>\n",
       "        <tr>\n",
       "            <td>2007</td>\n",
       "            <td>593.661231884058</td>\n",
       "        </tr>\n",
       "        <tr>\n",
       "            <td>2008</td>\n",
       "            <td>501.2028985507246</td>\n",
       "        </tr>\n",
       "        <tr>\n",
       "            <td>2009</td>\n",
       "            <td>462.4166666666667</td>\n",
       "        </tr>\n",
       "        <tr>\n",
       "            <td>2010</td>\n",
       "            <td>440.2427536231884</td>\n",
       "        </tr>\n",
       "        <tr>\n",
       "            <td>2011</td>\n",
       "            <td>446.2971014492754</td>\n",
       "        </tr>\n",
       "        <tr>\n",
       "            <td>2012</td>\n",
       "            <td>520.0217391304348</td>\n",
       "        </tr>\n",
       "        <tr>\n",
       "            <td>2013</td>\n",
       "            <td>607.054347826087</td>\n",
       "        </tr>\n",
       "        <tr>\n",
       "            <td>2014</td>\n",
       "            <td>626.304347826087</td>\n",
       "        </tr>\n",
       "        <tr>\n",
       "            <td>2015</td>\n",
       "            <td>646.3478260869565</td>\n",
       "        </tr>\n",
       "    </tbody>\n",
       "</table>"
      ],
      "text/plain": [
       "+------+--------------------+\n",
       "| year |     mean_sales     |\n",
       "+------+--------------------+\n",
       "| 2000 | 403.04891304347825 |\n",
       "| 2001 | 419.29891304347825 |\n",
       "| 2002 |       425.0        |\n",
       "| 2003 | 459.9800724637681  |\n",
       "| 2004 | 514.4909420289855  |\n",
       "| 2005 | 572.5471014492754  |\n",
       "| 2006 | 629.9510869565217  |\n",
       "| 2007 |  593.661231884058  |\n",
       "| 2008 | 501.2028985507246  |\n",
       "| 2009 | 462.4166666666667  |\n",
       "| 2010 | 440.2427536231884  |\n",
       "| 2011 | 446.2971014492754  |\n",
       "| 2012 | 520.0217391304348  |\n",
       "| 2013 |  607.054347826087  |\n",
       "| 2014 |  626.304347826087  |\n",
       "| 2015 | 646.3478260869565  |\n",
       "+------+--------------------+"
      ]
     },
     "execution_count": 13,
     "metadata": {},
     "output_type": "execute_result"
    }
   ],
   "source": [
    "%%sql\n",
    "\n",
    "SELECT\n",
    "    year,\n",
    "    avg(sales) AS mean_sales\n",
    "FROM housing\n",
    "GROUP BY year;"
   ]
  },
  {
   "cell_type": "markdown",
   "id": "32335d3c-2fc3-4ed7-a6d1-176d0dee3d61",
   "metadata": {},
   "source": [
    "****"
   ]
  },
  {
   "cell_type": "markdown",
   "id": "1308d520-9e4d-4f8f-bfe2-73104b747463",
   "metadata": {},
   "source": [
    "#### 10. Return only the years that had mean sales greater than 600. Which years does this include?"
   ]
  },
  {
   "cell_type": "code",
   "execution_count": 14,
   "id": "c3204ff5-aff3-4a67-9ce3-4fa2d4f4daf0",
   "metadata": {},
   "outputs": [
    {
     "data": {
      "text/html": [
       "<span style=\"None\">Running query in &#x27;sqlite:///housing.db&#x27;</span>"
      ],
      "text/plain": [
       "Running query in 'sqlite:///housing.db'"
      ]
     },
     "metadata": {},
     "output_type": "display_data"
    },
    {
     "data": {
      "text/html": [
       "<table>\n",
       "    <thead>\n",
       "        <tr>\n",
       "            <th>year</th>\n",
       "        </tr>\n",
       "    </thead>\n",
       "    <tbody>\n",
       "        <tr>\n",
       "            <td>2006</td>\n",
       "        </tr>\n",
       "        <tr>\n",
       "            <td>2013</td>\n",
       "        </tr>\n",
       "        <tr>\n",
       "            <td>2014</td>\n",
       "        </tr>\n",
       "        <tr>\n",
       "            <td>2015</td>\n",
       "        </tr>\n",
       "    </tbody>\n",
       "</table>"
      ],
      "text/plain": [
       "+------+\n",
       "| year |\n",
       "+------+\n",
       "| 2006 |\n",
       "| 2013 |\n",
       "| 2014 |\n",
       "| 2015 |\n",
       "+------+"
      ]
     },
     "execution_count": 14,
     "metadata": {},
     "output_type": "execute_result"
    }
   ],
   "source": [
    "%%sql\n",
    "\n",
    "SELECT\n",
    "    year\n",
    "FROM housing\n",
    "GROUP BY year\n",
    "HAVING avg(sales) >600;"
   ]
  },
  {
   "cell_type": "markdown",
   "id": "f5067f6a-d0b2-458d-88ff-952080955810",
   "metadata": {},
   "source": [
    "****"
   ]
  }
 ],
 "metadata": {
  "kernelspec": {
   "display_name": "Python 3 (ipykernel)",
   "language": "python",
   "name": "python3"
  },
  "language_info": {
   "codemirror_mode": {
    "name": "ipython",
    "version": 3
   },
   "file_extension": ".py",
   "mimetype": "text/x-python",
   "name": "python",
   "nbconvert_exporter": "python",
   "pygments_lexer": "ipython3",
   "version": "3.12.7"
  }
 },
 "nbformat": 4,
 "nbformat_minor": 5
}
