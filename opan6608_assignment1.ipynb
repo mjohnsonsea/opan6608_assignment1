{
 "cells": [
  {
   "cell_type": "markdown",
   "id": "187019e0-b4c4-4eca-9abc-38ccd7948091",
   "metadata": {},
   "source": [
    "# Assignment 1\n",
    "## Mike Johnson\n",
    "### January 20, 2025"
   ]
  },
  {
   "cell_type": "markdown",
   "id": "88145680-b6b6-4f6b-ae63-4bb621e177f9",
   "metadata": {},
   "source": [
    "****"
   ]
  },
  {
   "cell_type": "code",
   "execution_count": 1,
   "id": "62c4e493-09a8-4568-8e0f-257d5198344a",
   "metadata": {},
   "outputs": [],
   "source": [
    "#%pip install jupysql duckdb-engine --quiet"
   ]
  },
  {
   "cell_type": "code",
   "execution_count": 2,
   "id": "c3901f9f-1d23-44be-affa-5910bad74941",
   "metadata": {},
   "outputs": [],
   "source": [
    "# Load sql extension\n",
    "%load_ext sql"
   ]
  },
  {
   "cell_type": "code",
   "execution_count": 3,
   "id": "7489e926-7262-441e-be97-73b39c404a08",
   "metadata": {},
   "outputs": [
    {
     "data": {
      "text/html": [
       "<span style=\"None\">Connecting to &#x27;sqlite:///housing.db&#x27;</span>"
      ],
      "text/plain": [
       "Connecting to 'sqlite:///housing.db'"
      ]
     },
     "metadata": {},
     "output_type": "display_data"
    }
   ],
   "source": [
    "# Connect to housing.db\n",
    "%sql sqlite:///housing.db"
   ]
  },
  {
   "cell_type": "markdown",
   "id": "db16dbd8-3b2e-4d29-aa50-00b325d54f0e",
   "metadata": {},
   "source": [
    "#### 1. Return the first 7 records from the housing table"
   ]
  },
  {
   "cell_type": "code",
   "execution_count": 4,
   "id": "9c3e70c6-6261-4889-95e1-5e1c699b71a6",
   "metadata": {},
   "outputs": [
    {
     "data": {
      "text/html": [
       "<span style=\"None\">Running query in &#x27;sqlite:///housing.db&#x27;</span>"
      ],
      "text/plain": [
       "Running query in 'sqlite:///housing.db'"
      ]
     },
     "metadata": {},
     "output_type": "display_data"
    },
    {
     "data": {
      "text/html": [
       "<table>\n",
       "    <thead>\n",
       "        <tr>\n",
       "            <th>entry</th>\n",
       "            <th>city</th>\n",
       "            <th>year</th>\n",
       "            <th>month</th>\n",
       "            <th>sales</th>\n",
       "            <th>volume</th>\n",
       "            <th>median</th>\n",
       "            <th>listings</th>\n",
       "            <th>inventory</th>\n",
       "        </tr>\n",
       "    </thead>\n",
       "    <tbody>\n",
       "        <tr>\n",
       "            <td>1</td>\n",
       "            <td>Abilene</td>\n",
       "            <td>2000</td>\n",
       "            <td>1</td>\n",
       "            <td>72</td>\n",
       "            <td>5380000</td>\n",
       "            <td>71400</td>\n",
       "            <td>701</td>\n",
       "            <td>6.3</td>\n",
       "        </tr>\n",
       "        <tr>\n",
       "            <td>2</td>\n",
       "            <td>Abilene</td>\n",
       "            <td>2000</td>\n",
       "            <td>2</td>\n",
       "            <td>98</td>\n",
       "            <td>6505000</td>\n",
       "            <td>58700</td>\n",
       "            <td>746</td>\n",
       "            <td>6.6</td>\n",
       "        </tr>\n",
       "        <tr>\n",
       "            <td>3</td>\n",
       "            <td>Abilene</td>\n",
       "            <td>2000</td>\n",
       "            <td>3</td>\n",
       "            <td>130</td>\n",
       "            <td>9285000</td>\n",
       "            <td>58100</td>\n",
       "            <td>784</td>\n",
       "            <td>6.8</td>\n",
       "        </tr>\n",
       "        <tr>\n",
       "            <td>4</td>\n",
       "            <td>Abilene</td>\n",
       "            <td>2000</td>\n",
       "            <td>4</td>\n",
       "            <td>98</td>\n",
       "            <td>9730000</td>\n",
       "            <td>68600</td>\n",
       "            <td>785</td>\n",
       "            <td>6.9</td>\n",
       "        </tr>\n",
       "        <tr>\n",
       "            <td>5</td>\n",
       "            <td>Abilene</td>\n",
       "            <td>2000</td>\n",
       "            <td>5</td>\n",
       "            <td>141</td>\n",
       "            <td>10590000</td>\n",
       "            <td>67300</td>\n",
       "            <td>794</td>\n",
       "            <td>6.8</td>\n",
       "        </tr>\n",
       "        <tr>\n",
       "            <td>6</td>\n",
       "            <td>Abilene</td>\n",
       "            <td>2000</td>\n",
       "            <td>6</td>\n",
       "            <td>156</td>\n",
       "            <td>13910000</td>\n",
       "            <td>66900</td>\n",
       "            <td>780</td>\n",
       "            <td>6.6</td>\n",
       "        </tr>\n",
       "        <tr>\n",
       "            <td>7</td>\n",
       "            <td>Abilene</td>\n",
       "            <td>2000</td>\n",
       "            <td>7</td>\n",
       "            <td>152</td>\n",
       "            <td>12635000</td>\n",
       "            <td>73500</td>\n",
       "            <td>742</td>\n",
       "            <td>6.2</td>\n",
       "        </tr>\n",
       "    </tbody>\n",
       "</table>"
      ],
      "text/plain": [
       "+-------+---------+------+-------+-------+----------+--------+----------+-----------+\n",
       "| entry |   city  | year | month | sales |  volume  | median | listings | inventory |\n",
       "+-------+---------+------+-------+-------+----------+--------+----------+-----------+\n",
       "|   1   | Abilene | 2000 |   1   |   72  | 5380000  | 71400  |   701    |    6.3    |\n",
       "|   2   | Abilene | 2000 |   2   |   98  | 6505000  | 58700  |   746    |    6.6    |\n",
       "|   3   | Abilene | 2000 |   3   |  130  | 9285000  | 58100  |   784    |    6.8    |\n",
       "|   4   | Abilene | 2000 |   4   |   98  | 9730000  | 68600  |   785    |    6.9    |\n",
       "|   5   | Abilene | 2000 |   5   |  141  | 10590000 | 67300  |   794    |    6.8    |\n",
       "|   6   | Abilene | 2000 |   6   |  156  | 13910000 | 66900  |   780    |    6.6    |\n",
       "|   7   | Abilene | 2000 |   7   |  152  | 12635000 | 73500  |   742    |    6.2    |\n",
       "+-------+---------+------+-------+-------+----------+--------+----------+-----------+"
      ]
     },
     "execution_count": 4,
     "metadata": {},
     "output_type": "execute_result"
    }
   ],
   "source": [
    "%%sql\n",
    "\n",
    "SELECT *\n",
    "FROM housing\n",
    "LIMIT 7;"
   ]
  },
  {
   "cell_type": "markdown",
   "id": "a10ad197-e6d8-4c7b-9465-a5a8a42a9e45",
   "metadata": {},
   "source": [
    "****"
   ]
  },
  {
   "cell_type": "markdown",
   "id": "75bb5b14-5c33-4e6b-8bed-b9c9558188b7",
   "metadata": {},
   "source": [
    "#### 2. How many records in the data had sales greater than 100 and a median sales price greater than 100000? Write a query to return the result."
   ]
  },
  {
   "cell_type": "code",
   "execution_count": 10,
   "id": "afcea9bd-ce9e-48cc-866f-25d5331b2ffb",
   "metadata": {},
   "outputs": [
    {
     "data": {
      "text/html": [
       "<span style=\"None\">Running query in &#x27;sqlite:///housing.db&#x27;</span>"
      ],
      "text/plain": [
       "Running query in 'sqlite:///housing.db'"
      ]
     },
     "metadata": {},
     "output_type": "display_data"
    },
    {
     "data": {
      "text/html": [
       "<table>\n",
       "    <thead>\n",
       "        <tr>\n",
       "            <th>Count</th>\n",
       "        </tr>\n",
       "    </thead>\n",
       "    <tbody>\n",
       "        <tr>\n",
       "            <td>5106</td>\n",
       "        </tr>\n",
       "    </tbody>\n",
       "</table>"
      ],
      "text/plain": [
       "+-------+\n",
       "| Count |\n",
       "+-------+\n",
       "|  5106 |\n",
       "+-------+"
      ]
     },
     "execution_count": 10,
     "metadata": {},
     "output_type": "execute_result"
    }
   ],
   "source": [
    "%%sql\n",
    "\n",
    "SELECT COUNT(*) AS 'Count'\n",
    "FROM housing\n",
    "WHERE\n",
    "    sales > 100\n",
    "    AND median > 100000;"
   ]
  },
  {
   "cell_type": "markdown",
   "id": "fe91a621-bb9f-4bb9-ab05-b222225f67a1",
   "metadata": {},
   "source": [
    "****"
   ]
  },
  {
   "cell_type": "markdown",
   "id": "4376f2d3-83bb-4592-b76d-1f378bdc0e1e",
   "metadata": {},
   "source": [
    "#### 3. Show the number of records in the data that had sales greater than 100 or a median sales price less than 100000 by month. The result should contain two columns: month and num_records."
   ]
  },
  {
   "cell_type": "code",
   "execution_count": 16,
   "id": "676e7886-fe79-4b7a-bf9a-e04e93f7b865",
   "metadata": {},
   "outputs": [],
   "source": [
    "# Adjust display limit to display all 12 months\n",
    "%config SqlMagic.displaylimit = 12"
   ]
  },
  {
   "cell_type": "code",
   "execution_count": 17,
   "id": "c90d3af5-560d-4f80-945a-f2ea3585ea73",
   "metadata": {},
   "outputs": [
    {
     "data": {
      "text/html": [
       "<span style=\"None\">Running query in &#x27;sqlite:///housing.db&#x27;</span>"
      ],
      "text/plain": [
       "Running query in 'sqlite:///housing.db'"
      ]
     },
     "metadata": {},
     "output_type": "display_data"
    },
    {
     "data": {
      "text/html": [
       "<table>\n",
       "    <thead>\n",
       "        <tr>\n",
       "            <th>month</th>\n",
       "            <th>num_records</th>\n",
       "        </tr>\n",
       "    </thead>\n",
       "    <tbody>\n",
       "        <tr>\n",
       "            <td>1</td>\n",
       "            <td>576</td>\n",
       "        </tr>\n",
       "        <tr>\n",
       "            <td>2</td>\n",
       "            <td>582</td>\n",
       "        </tr>\n",
       "        <tr>\n",
       "            <td>3</td>\n",
       "            <td>625</td>\n",
       "        </tr>\n",
       "        <tr>\n",
       "            <td>4</td>\n",
       "            <td>620</td>\n",
       "        </tr>\n",
       "        <tr>\n",
       "            <td>5</td>\n",
       "            <td>639</td>\n",
       "        </tr>\n",
       "        <tr>\n",
       "            <td>6</td>\n",
       "            <td>625</td>\n",
       "        </tr>\n",
       "        <tr>\n",
       "            <td>7</td>\n",
       "            <td>626</td>\n",
       "        </tr>\n",
       "        <tr>\n",
       "            <td>8</td>\n",
       "            <td>586</td>\n",
       "        </tr>\n",
       "        <tr>\n",
       "            <td>9</td>\n",
       "            <td>563</td>\n",
       "        </tr>\n",
       "        <tr>\n",
       "            <td>10</td>\n",
       "            <td>575</td>\n",
       "        </tr>\n",
       "        <tr>\n",
       "            <td>11</td>\n",
       "            <td>546</td>\n",
       "        </tr>\n",
       "        <tr>\n",
       "            <td>12</td>\n",
       "            <td>559</td>\n",
       "        </tr>\n",
       "    </tbody>\n",
       "</table>\n",
       "<span style=\"font-style:italic;text-align:center;\">Truncated to <a href=\"https://jupysql.ploomber.io/en/latest/api/configuration.html#displaylimit\">displaylimit</a> of 12.</span>"
      ],
      "text/plain": [
       "+-------+-------------+\n",
       "| month | num_records |\n",
       "+-------+-------------+\n",
       "|   1   |     576     |\n",
       "|   2   |     582     |\n",
       "|   3   |     625     |\n",
       "|   4   |     620     |\n",
       "|   5   |     639     |\n",
       "|   6   |     625     |\n",
       "|   7   |     626     |\n",
       "|   8   |     586     |\n",
       "|   9   |     563     |\n",
       "|   10  |     575     |\n",
       "|   11  |     546     |\n",
       "|   12  |     559     |\n",
       "+-------+-------------+\n",
       "Truncated to displaylimit of 12."
      ]
     },
     "execution_count": 17,
     "metadata": {},
     "output_type": "execute_result"
    }
   ],
   "source": [
    "%%sql\n",
    "\n",
    "SELECT\n",
    "    month,\n",
    "    COUNT(*) as num_records\n",
    "FROM housing\n",
    "WHERE\n",
    "    sales > 100\n",
    "    OR median < 100000\n",
    "GROUP BY month"
   ]
  },
  {
   "cell_type": "markdown",
   "id": "9ef984e7-fdb0-4af4-9793-11da067d1389",
   "metadata": {},
   "source": [
    "****"
   ]
  }
 ],
 "metadata": {
  "kernelspec": {
   "display_name": "Python 3 (ipykernel)",
   "language": "python",
   "name": "python3"
  },
  "language_info": {
   "codemirror_mode": {
    "name": "ipython",
    "version": 3
   },
   "file_extension": ".py",
   "mimetype": "text/x-python",
   "name": "python",
   "nbconvert_exporter": "python",
   "pygments_lexer": "ipython3",
   "version": "3.12.7"
  }
 },
 "nbformat": 4,
 "nbformat_minor": 5
}
